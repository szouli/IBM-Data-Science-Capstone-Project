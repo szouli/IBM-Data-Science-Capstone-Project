{
 "cells": [
  {
   "cell_type": "markdown",
   "id": "bb052977",
   "metadata": {},
   "source": [
    "# Data Science Final Project"
   ]
  },
  {
   "cell_type": "markdown",
   "id": "620b2481",
   "metadata": {},
   "source": [
    "## Introduction\n",
    "This notebook covers various exercises related to Data Science topics."
   ]
  },
  {
   "cell_type": "markdown",
   "id": "acfa6e40",
   "metadata": {},
   "source": [
    "## Data Science Languages\n",
    "- Python\n",
    "- R\n",
    "- SQL\n",
    "- Julia\n",
    "- Java\n",
    "- Scala"
   ]
  },
  {
   "cell_type": "markdown",
   "id": "4125e516",
   "metadata": {},
   "source": [
    "## Data Science Libraries\n",
    "- NumPy\n",
    "- Pandas\n",
    "- SciPy\n",
    "- Scikit-learn\n",
    "- TensorFlow\n",
    "- Keras\n",
    "- PyTorch"
   ]
  },
  {
   "cell_type": "markdown",
   "id": "4015d694",
   "metadata": {},
   "source": [
    "## Data Science Tools\n",
    "\n",
    "| Tool           | Description                    |\n",
    "|----------------|--------------------------------|\n",
    "| Jupyter Notebook | Interactive coding environment |\n",
    "| RStudio       | IDE for R                      |\n",
    "| Tableau       | Data visualization software    |"
   ]
  },
  {
   "cell_type": "markdown",
   "id": "9ea37012",
   "metadata": {},
   "source": [
    "## Arithmetic Expression Examples\n",
    "In this section, we will perform basic arithmetic operations."
   ]
  },
  {
   "cell_type": "code",
   "execution_count": null,
   "id": "3b7eb926",
   "metadata": {},
   "outputs": [],
   "source": [
    "5 * 3 + 7"
   ]
  },
  {
   "cell_type": "code",
   "execution_count": null,
   "id": "49e2bcc2",
   "metadata": {},
   "outputs": [],
   "source": [
    "# Convert 120 minutes to hours\n",
    "120 / 60"
   ]
  },
  {
   "cell_type": "markdown",
   "id": "35384c3d",
   "metadata": {},
   "source": [
    "## Objectives\n",
    "- Understand basic data science concepts\n",
    "- List essential libraries and tools\n",
    "- Demonstrate arithmetic operations\n",
    "- Practice using Jupyter Notebook"
   ]
  },
  {
   "cell_type": "markdown",
   "id": "7d6c2b2c",
   "metadata": {},
   "source": [
    "## Author\n",
    "John Doe"
   ]
  },
  {
   "cell_type": "markdown",
   "id": "00e91964",
   "metadata": {},
   "source": [
    "## GitHub Sharing\n",
    "The notebook can be shared via GitHub by uploading it to a repository."
   ]
  },
  {
   "cell_type": "markdown",
   "id": "4f9d9df6",
   "metadata": {},
   "source": [
    "## Screenshot\n",
    "Take a screenshot of the first page of this notebook after completing all tasks."
   ]
  }
 ],
 "metadata": {},
 "nbformat": 4,
 "nbformat_minor": 5
}
